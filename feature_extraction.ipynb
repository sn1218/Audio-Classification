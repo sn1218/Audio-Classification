{
  "nbformat": 4,
  "nbformat_minor": 0,
  "metadata": {
    "colab": {
      "provenance": []
    },
    "kernelspec": {
      "name": "python3",
      "display_name": "Python 3"
    },
    "language_info": {
      "name": "python"
    }
  },
  "cells": [
    {
      "cell_type": "code",
      "source": [
        "# create a module for the test model file. Takes in one audio file and outputs to format needed for cnn model\n",
        "%%writefile feature_extraction.py\n",
        "import numpy as np\n",
        "import librosa\n",
        "\n",
        "def extract_features(file_path):\n",
        "\n",
        "  y, sr = librosa.load(file_path)\n",
        "\n",
        "  # Extracting MFCC feature\n",
        "  mfcc = librosa.feature.mfcc(y=y, sr=sr, n_mfcc=40)\n",
        "\n",
        "  mfcc_mean = np.mean(mfcc, axis=1)\n",
        "  mfcc_min = np.min(mfcc, axis=1)\n",
        "  mfcc_max = np.max(mfcc, axis=1)\n",
        "  mfcc_feature = np.concatenate( (mfcc_mean, mfcc_min, mfcc_max) )\n",
        "\n",
        "  # Extracting Mel Spectrogram feature\n",
        "  melspectrogram = librosa.feature.melspectrogram(y=y, sr=sr)\n",
        "  melspectrogram_mean = np.mean(melspectrogram, axis=1)\n",
        "  melspectrogram_min = np.min(melspectrogram, axis=1)\n",
        "  melspectrogram_max = np.max(melspectrogram, axis=1)\n",
        "  melspectrogram_feature = np.concatenate( (melspectrogram_mean, melspectrogram_min, melspectrogram_max) )\n",
        "\n",
        "  # Extracting chroma vector feature\n",
        "  chroma = librosa.feature.chroma_stft(y=y, sr=sr)\n",
        "  chroma_mean = np.mean(chroma, axis=1)\n",
        "  chroma_min = np.min(chroma, axis=1)\n",
        "  chroma_max = np.max(chroma, axis=1)\n",
        "  chroma_feature = np.concatenate( (chroma_mean, chroma_min, chroma_max) )\n",
        "\n",
        "  # Extracting tonnetz feature\n",
        "  tntz = librosa.feature.tonnetz(y=y, sr=sr)\n",
        "  tntz_mean = np.mean(tntz, axis=1)\n",
        "  tntz_min = np.min(tntz, axis=1)\n",
        "  tntz_max = np.max(tntz, axis=1)\n",
        "  tntz_feature = np.concatenate( (tntz_mean, tntz_min, tntz_max) )\n",
        "\n",
        "  feature = np.concatenate( (mfcc_feature, melspectrogram_feature, chroma_feature, tntz_feature) )\n",
        "\n",
        "  feature = np.array(feature)\n",
        "  feature = np.expand_dims(feature, axis=-1)  # Add a channel dimension for CNN input\n",
        "  feature = np.expand_dims(feature, axis=0)\n",
        "\n",
        "  return feature"
      ],
      "metadata": {
        "id": "Jh-sJOQI_crk",
        "colab": {
          "base_uri": "https://localhost:8080/"
        },
        "outputId": "5c065676-72cf-497e-f8ab-c32dc9c0788c"
      },
      "execution_count": null,
      "outputs": [
        {
          "output_type": "stream",
          "name": "stdout",
          "text": [
            "Writing feature_extraction.py\n"
          ]
        }
      ]
    },
    {
      "cell_type": "code",
      "source": [
        "from google.colab import files\n",
        "files.download('feature_extraction.py')"
      ],
      "metadata": {
        "colab": {
          "base_uri": "https://localhost:8080/",
          "height": 17
        },
        "id": "U5EOyFMXHhRm",
        "outputId": "9f62281f-fb6c-42c4-aab9-b1e4361d6280"
      },
      "execution_count": null,
      "outputs": [
        {
          "output_type": "display_data",
          "data": {
            "text/plain": [
              "<IPython.core.display.Javascript object>"
            ],
            "application/javascript": [
              "\n",
              "    async function download(id, filename, size) {\n",
              "      if (!google.colab.kernel.accessAllowed) {\n",
              "        return;\n",
              "      }\n",
              "      const div = document.createElement('div');\n",
              "      const label = document.createElement('label');\n",
              "      label.textContent = `Downloading \"${filename}\": `;\n",
              "      div.appendChild(label);\n",
              "      const progress = document.createElement('progress');\n",
              "      progress.max = size;\n",
              "      div.appendChild(progress);\n",
              "      document.body.appendChild(div);\n",
              "\n",
              "      const buffers = [];\n",
              "      let downloaded = 0;\n",
              "\n",
              "      const channel = await google.colab.kernel.comms.open(id);\n",
              "      // Send a message to notify the kernel that we're ready.\n",
              "      channel.send({})\n",
              "\n",
              "      for await (const message of channel.messages) {\n",
              "        // Send a message to notify the kernel that we're ready.\n",
              "        channel.send({})\n",
              "        if (message.buffers) {\n",
              "          for (const buffer of message.buffers) {\n",
              "            buffers.push(buffer);\n",
              "            downloaded += buffer.byteLength;\n",
              "            progress.value = downloaded;\n",
              "          }\n",
              "        }\n",
              "      }\n",
              "      const blob = new Blob(buffers, {type: 'application/binary'});\n",
              "      const a = document.createElement('a');\n",
              "      a.href = window.URL.createObjectURL(blob);\n",
              "      a.download = filename;\n",
              "      div.appendChild(a);\n",
              "      a.click();\n",
              "      div.remove();\n",
              "    }\n",
              "  "
            ]
          },
          "metadata": {}
        },
        {
          "output_type": "display_data",
          "data": {
            "text/plain": [
              "<IPython.core.display.Javascript object>"
            ],
            "application/javascript": [
              "download(\"download_9aec1a35-fefd-4fb4-8c91-7c3c19d8930d\", \"feature_extraction.py\", 1537)"
            ]
          },
          "metadata": {}
        }
      ]
    }
  ]
}